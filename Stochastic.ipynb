{
  "nbformat": 4,
  "nbformat_minor": 0,
  "metadata": {
    "colab": {
      "name": "Stoch.ipynb",
      "provenance": []
    },
    "kernelspec": {
      "name": "python3",
      "display_name": "Python 3"
    },
    "language_info": {
      "name": "python"
    }
  },
  "cells": [
    {
      "cell_type": "markdown",
      "source": [
        "#**Importing** **Liberaries**"
      ],
      "metadata": {
        "id": "kBSe1d16MI8M"
      }
    },
    {
      "cell_type": "code",
      "source": [
        "import numpy as np\n",
        "import pandas as pd\n",
        "from matplotlib import pyplot as plt"
      ],
      "metadata": {
        "id": "CWzqel1mMGa_"
      },
      "execution_count": 88,
      "outputs": []
    },
    {
      "cell_type": "markdown",
      "source": [
        "#Reading Data From xlsx Sheet"
      ],
      "metadata": {
        "id": "J0G7aNl_Mb1S"
      }
    },
    {
      "cell_type": "code",
      "source": [
        "file_loc = \"Data (1).xlsx\"\n",
        "df = pd.read_excel(file_loc)\n",
        "\n",
        "#x(n) signal\n",
        "x = np.array(df.f7)\n",
        "\n",
        "#y(n) signal\n",
        "y = np.array(df.f8)\n",
        "\n",
        "print(x[0] , y[0])"
      ],
      "metadata": {
        "colab": {
          "base_uri": "https://localhost:8080/"
        },
        "id": "8lizGUTSMhOU",
        "outputId": "ec475083-b7c4-4ccc-ccdc-08cbd3a6e279"
      },
      "execution_count": 114,
      "outputs": [
        {
          "output_type": "stream",
          "name": "stdout",
          "text": [
            "-42.2676106184863 -14.79492130541703\n"
          ]
        }
      ]
    },
    {
      "cell_type": "markdown",
      "source": [
        "#Calculate Initial Coeff "
      ],
      "metadata": {
        "id": "TBXp_3ibMpZi"
      }
    },
    {
      "cell_type": "code",
      "source": [
        "# Adaptation step\n",
        "mu = 0.00001\n",
        "\n",
        "# Number o f iterations\n",
        "num_iterations = 256\n",
        "\n",
        "results = np.zeros(( num_iterations, 10 ))"
      ],
      "metadata": {
        "id": "MxHkkRQxM3Jq"
      },
      "execution_count": 115,
      "outputs": []
    },
    {
      "cell_type": "code",
      "source": [
        "#Initialize a0 , a1 , a2 , a3 , a4 , a5\n",
        "a0 = x[0] / y[0]\n",
        "\n",
        "a1 = - ( (a0 * y[1]) - x[1] ) / y[0]  \n",
        "\n",
        "a2 = - ( (a0 * y[2]) +  (a1 * y[1])  - x[2] ) / y[0]\n",
        "\n",
        "a3 = - ( (a0 * y[3]) + (a1 * y[2]) + (a2 * y[1]) - x[3] ) / y[0]\n",
        "\n",
        "a4 = - ( (a0 * y[4]) + (a1 * y[3]) + (a2 * y[2]) + (a3 * y[1]) - x[4] ) / y[0]\n",
        "\n",
        "a5 = - ( (a0 *y [5]) + (a1 *y [4]) + (a2 * y [3]) + (a3 * y [2]) + (a4 * y[1]) - x[5] ) /  y[0]\n",
        "\n",
        "print(a0 , a1 , a2 , a3 , a4 , a5)"
      ],
      "metadata": {
        "colab": {
          "base_uri": "https://localhost:8080/"
        },
        "id": "wmMeTew6Qubj",
        "outputId": "0ac5f602-6750-40f0-8151-b6b6a53cc017"
      },
      "execution_count": 116,
      "outputs": [
        {
          "output_type": "stream",
          "name": "stdout",
          "text": [
            "2.856899996014875 0.13941752168334087 0.20780808159652162 0.28854809053157904 0.37759262749405037 0.47098366228626537\n"
          ]
        }
      ]
    },
    {
      "cell_type": "markdown",
      "source": [
        "#Calculate F8-Hat"
      ],
      "metadata": {
        "id": "sWL7e7luM5Ps"
      }
    },
    {
      "cell_type": "code",
      "source": [
        "for n in range ( num_iterations ) :\n",
        "    # Boundary condition\n",
        "    if n == 0 :\n",
        "       xhat_1 = a0 * y[n]  #F8-hat = coeff F7\n",
        "\n",
        "    elif n == 1:\n",
        "       #Get estnmate of x ( xhat ) us ing convolution with a0 and a1\n",
        "       xhat_1 = a0 * y[n] + a1 * y[n-1]\n",
        "\n",
        "    elif n == 2:\n",
        "       #Get estnmate of x ( xhat ) us ing convolution with a0 and a1 and a2\n",
        "       xhat_1 = a0 * y[n] + a1 *y[n-1] + a2 * y[n-2]\n",
        "\n",
        "    elif n == 3:\n",
        "       #Get estnmate of x ( xhat ) us ing convolution with a0 and a1 and a2 and a3\n",
        "       xhat_1 = a0 * y[n] + a1 * y[n-1] + a2 * y[n-2] + a3 * y[n-3]\n",
        "\n",
        "    elif n == 4:\n",
        "       #Get estnmate of x ( xhat ) us ing convolution with a0 and a1 and a2 and a3 and a4\n",
        "       xhat_1 = a0 * y[n] + a1 * y[n-1] + a2 * y[n-2] + a3 * y[n-3] + a4 * y[n-4]\n",
        "\n",
        "    else :\n",
        "       xhat_1 = a0 *y [n] + a1 *y[n-1] + a2 * y[n-2] + a3 *y[n-3] + a4 * y[n-4] + a5 * y[n-5]\n",
        "\n",
        "    #Get the error\n",
        "    e1 = x[n] - xhat_1\n",
        "\n",
        "     # Add to results matrix\n",
        "    results [ n , :2 ] = np.array( [ xhat_1 , e1 ] )\n"
      ],
      "metadata": {
        "id": "0yKl7Ik5denJ"
      },
      "execution_count": 117,
      "outputs": []
    },
    {
      "cell_type": "code",
      "execution_count": 118,
      "metadata": {
        "id": "ww54r2bXEOxW"
      },
      "outputs": [],
      "source": [
        "for n in range ( num_iterations ) :\n",
        "    # Boundary condition\n",
        "    if n == 0 :\n",
        "       xhat_2 = a0 * y[n]  #F8-hat = coeff F7\n",
        "    elif n == 1:\n",
        "       #Get estnmate of x ( xhat ) us ing convolution with a0 and a1\n",
        "       xhat_2 = a0 * y[n] + a1 * y[n-1]\n",
        "    elif n == 2:\n",
        "       #Get estnmate of x ( xhat ) us ing convolution with a0 and a1 and a2\n",
        "       xhat_2 = a0 * y[n] + a1 *y[n-1] + a2 * y[n-2]\n",
        "    elif n == 3:\n",
        "       #Get estnmate of x ( xhat ) us ing convolution with a0 and a1 and a2 and a3\n",
        "       xhat_2 = a0 * y[n] + a1 * y[n-1] + a2 * y[n-2] + a3 * y[n-3]\n",
        "    elif n == 4:\n",
        "       #Get estnmate of x ( xhat ) us ing convolution with a0 and a1 and a2 and a3 and a4\n",
        "       xhat_2 = a0 * y[n] + a1 * y[n-1] + a2 * y[n-2] + a3 * y[n-3] + a4 * y[n-4]\n",
        "    else  :\n",
        "       xhat_2 = a0 *y [n] + a1 * y[n-1] + a2 * y[n-2] + a3 * y[n-3] + a4 * y[n-4] + a5 * y[n-5]\n",
        "\n",
        "\n",
        "    #Get the error\n",
        "    e_2 = x[n] - xhat_2\n",
        "\n",
        "    #Update your filter coeffs\n",
        "    #Checking f or boundary condition\n",
        "    if n != 0:\n",
        "      a0 = a0 + mu * results [n-1 , 1] * y[n-1]\n",
        "\n",
        "      if n != 1:\n",
        "        a1 = a1 + mu * results [n-1 , 1]  * y [n-1]\n",
        "\n",
        "        if n != 2:\n",
        "          a2 = a2 + mu * results [n-1 , 1]  * y [n-1]\n",
        "\n",
        "          if n != 3:\n",
        "            a3 = a3 + mu * results [n-1 , 1]  * y [n-1]\n",
        "\n",
        "            if n != 4:\n",
        "              a4 = a4 + mu * results [n-1 , 1]  * y [n-1]\n",
        "\n",
        "              if n != 5:\n",
        "                a5 = a5 + mu * results [n-1 , 1]  * y [n-1]\n",
        "\n",
        "\n",
        "    # Add to results matrix\n",
        "    results [ n , 2: ] = np.array( [ xhat_2 , e_2 , a0 , a1 , a2 , a3 , a4 , a5 ] )"
      ]
    },
    {
      "cell_type": "code",
      "source": [
        "plt.hist(results [ : , 3], 10)\n",
        "\n",
        "plt.show()"
      ],
      "metadata": {
        "colab": {
          "base_uri": "https://localhost:8080/",
          "height": 265
        },
        "id": "FUqsHxWqNM_O",
        "outputId": "db3f1397-ba09-48c3-f5fa-d2f806efabe1"
      },
      "execution_count": 119,
      "outputs": [
        {
          "output_type": "display_data",
          "data": {
            "text/plain": [
              "<Figure size 432x288 with 1 Axes>"
            ],
            "image/png": "[encoded data removed]"
          },
          "metadata": {
            "needs_background": "light"
          }
        }
      ]
    }
  ]
}